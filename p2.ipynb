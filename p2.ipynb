{
 "cells": [
  {
   "cell_type": "code",
   "execution_count": 1,
   "metadata": {},
   "outputs": [],
   "source": [
    "import tree"
   ]
  },
  {
   "cell_type": "code",
   "execution_count": 2,
   "metadata": {},
   "outputs": [],
   "source": [
    "import tester as testerr"
   ]
  },
  {
   "cell_type": "code",
   "execution_count": 3,
   "metadata": {},
   "outputs": [],
   "source": [
    "from graphviz import Graph, Digraph"
   ]
  },
  {
   "cell_type": "code",
   "execution_count": 4,
   "metadata": {},
   "outputs": [
    {
     "data": {
      "text/plain": [
       "['il.csv', 'la.csv', 'wi.csv']"
      ]
     },
     "execution_count": 4,
     "metadata": {},
     "output_type": "execute_result"
    }
   ],
   "source": [
    "rdr = tree.ZippedCSVReader(\"loans.zip\")\n",
    "rdr.csv_iter(\"wi.csv\")\n",
    "rdr.paths"
   ]
  },
  {
   "cell_type": "code",
   "execution_count": 5,
   "metadata": {
    "scrolled": false
   },
   "outputs": [],
   "source": [
    "rdr = tree.ZippedCSVReader(\"mini.zip\")\n",
    "#for line in rdr.csv_iter():\n",
    "   # print(line)"
   ]
  },
  {
   "cell_type": "code",
   "execution_count": 6,
   "metadata": {},
   "outputs": [],
   "source": [
    "reader = tree.ZippedCSVReader(\"loans.zip\")"
   ]
  },
  {
   "cell_type": "code",
   "execution_count": 7,
   "metadata": {},
   "outputs": [
    {
     "data": {
      "text/plain": [
       "100"
      ]
     },
     "execution_count": 7,
     "metadata": {},
     "output_type": "execute_result"
    }
   ],
   "source": [
    "loan = tree.Loan(100, \"house\", \"white\", 200000, \"yes\")\n",
    "loan[\"amount\"]"
   ]
  },
  {
   "cell_type": "code",
   "execution_count": 8,
   "metadata": {
    "scrolled": true
   },
   "outputs": [
    {
     "name": "stdout",
     "output_type": "stream",
     "text": [
      "1\n",
      "100\n"
     ]
    }
   ],
   "source": [
    "print(loan[\"house\"])\n",
    "print(loan[\"amount\"])\n",
    "loan2 = tree.Loan(122, \"Home improvement\", \"black\", 224824, \"Approved\")"
   ]
  },
  {
   "cell_type": "code",
   "execution_count": 9,
   "metadata": {
    "scrolled": true
   },
   "outputs": [
    {
     "name": "stdout",
     "output_type": "stream",
     "text": [
      "Loan(80, 'Refinancing', 'Black or African American', 0, 'Application withdrawn by applicant')\n",
      "Loan(165, 'Refinancing', 'Information not provided by applicant in mail, Internet, or telephone application', 33, 'Loan originated')\n",
      "Loan(90, 'Refinancing', 'White', 29, 'Application withdrawn by applicant')\n",
      "Loan(385, 'Home purchase', 'White', 227, 'Loan originated')\n",
      "Loan(8, 'Home purchase', 'White', 44, 'Application withdrawn by applicant')\n",
      "Loan(216, 'Home purchase', 'White', 82, 'Loan originated')\n",
      "Loan(582, 'Home purchase', 'White', 149, 'Loan originated')\n",
      "Loan(87, 'Refinancing', 'Information not provided by applicant in mail, Internet, or telephone application', 0, 'Loan originated')\n",
      "Loan(101, 'Home purchase', 'Black or African American', 21, 'Loan originated')\n",
      "Loan(246, 'Refinancing', 'Information not provided by applicant in mail, Internet, or telephone application', 111, 'Loan originated')\n",
      "Loan(89, 'Refinancing', 'White', 96, 'Application denied by financial institution')\n",
      "Loan(82, 'Home purchase', 'White', 74, 'Loan originated')\n"
     ]
    }
   ],
   "source": [
    "r = tree.ZippedCSVReader(\"mini.zip\")\n",
    "banq = tree.Bank(\"HUD\", rdr)\n",
    "for row in banq.loan_iter():\n",
    "    print(row)"
   ]
  },
  {
   "cell_type": "code",
   "execution_count": 10,
   "metadata": {
    "scrolled": true
   },
   "outputs": [
    {
     "name": "stdout",
     "output_type": "stream",
     "text": [
      "{'amount': 80, 'purpose': 'Refinancing', 'race': 'Black or African American', 'income': 0, 'decision': 'Application withdrawn by applicant'}\n",
      "{'amount': 165, 'purpose': 'Refinancing', 'race': 'Information not provided by applicant in mail, Internet, or telephone application', 'income': 33, 'decision': 'Loan originated'}\n",
      "{'amount': 90, 'purpose': 'Refinancing', 'race': 'White', 'income': 29, 'decision': 'Application withdrawn by applicant'}\n",
      "{'amount': 385, 'purpose': 'Home purchase', 'race': 'White', 'income': 227, 'decision': 'Loan originated'}\n",
      "{'amount': 8, 'purpose': 'Home purchase', 'race': 'White', 'income': 44, 'decision': 'Application withdrawn by applicant'}\n",
      "{'amount': 216, 'purpose': 'Home purchase', 'race': 'White', 'income': 82, 'decision': 'Loan originated'}\n",
      "{'amount': 582, 'purpose': 'Home purchase', 'race': 'White', 'income': 149, 'decision': 'Loan originated'}\n",
      "{'amount': 87, 'purpose': 'Refinancing', 'race': 'Information not provided by applicant in mail, Internet, or telephone application', 'income': 0, 'decision': 'Loan originated'}\n",
      "{'amount': 101, 'purpose': 'Home purchase', 'race': 'Black or African American', 'income': 21, 'decision': 'Loan originated'}\n",
      "{'amount': 246, 'purpose': 'Refinancing', 'race': 'Information not provided by applicant in mail, Internet, or telephone application', 'income': 111, 'decision': 'Loan originated'}\n",
      "{'amount': 89, 'purpose': 'Refinancing', 'race': 'White', 'income': 96, 'decision': 'Application denied by financial institution'}\n",
      "{'amount': 82, 'purpose': 'Home purchase', 'race': 'White', 'income': 74, 'decision': 'Loan originated'}\n",
      "Loan(165, 'Refinancing', 'Information not provided by applicant in mail, Internet, or telephone application', 33, 'Loan originated')\n",
      "Loan(90, 'Refinancing', 'White', 29, 'Application withdrawn by applicant')\n",
      "Loan(87, 'Refinancing', 'Information not provided by applicant in mail, Internet, or telephone application', 0, 'Loan originated')\n",
      "Loan(89, 'Refinancing', 'White', 96, 'Application denied by financial institution')\n"
     ]
    }
   ],
   "source": [
    "for row in banq.loan_iter():\n",
    "    print(row.loan)\n",
    "\n",
    "for row in banq.loan_filter(85, 200, \"Refinancing\"):\n",
    "    print(row)"
   ]
  },
  {
   "cell_type": "code",
   "execution_count": 11,
   "metadata": {},
   "outputs": [
    {
     "data": {
      "text/plain": [
       "['CFPB', 'FDIC', 'FRS', 'HUD', 'NCUA']"
      ]
     },
     "execution_count": 11,
     "metadata": {},
     "output_type": "execute_result"
    }
   ],
   "source": [
    "tree.get_bank_names(r)"
   ]
  },
  {
   "cell_type": "code",
   "execution_count": 12,
   "metadata": {
    "scrolled": true
   },
   "outputs": [
    {
     "data": {
      "text/plain": [
       "1"
      ]
     },
     "execution_count": 12,
     "metadata": {},
     "output_type": "execute_result"
    }
   ],
   "source": [
    "spred = tree.SimplePredictor()\n",
    "spred.predict(loan2)\n",
    "spred.getApproved()"
   ]
  },
  {
   "cell_type": "code",
   "execution_count": 13,
   "metadata": {},
   "outputs": [
    {
     "name": "stdout",
     "output_type": "stream",
     "text": [
      "|--- amount <= 200\n",
      "\n",
      "|   |--- income <= 35\n",
      "\n",
      "|   |   |--- class: 0\n",
      "\n",
      "|   |--- income >  35\n",
      "\n",
      "|   |   |--- class: 1\n",
      "\n",
      "|--- amount >  200\n",
      "\n",
      "|   |--- income <= 70\n",
      "\n",
      "|   |   |--- class: 0\n",
      "\n",
      "|   |--- income >  70\n",
      "\n",
      "|   |   |--- class: 1\n"
     ]
    }
   ],
   "source": [
    "reader1 = tree.ZippedCSVReader(\"trees.zip\")\n",
    "for line in reader1.lines(\"simple.txt\"):\n",
    "    print(line)"
   ]
  },
  {
   "cell_type": "code",
   "execution_count": 14,
   "metadata": {
    "scrolled": true
   },
   "outputs": [
    {
     "name": "stdout",
     "output_type": "stream",
     "text": [
      "\n",
      " 12 13\n"
     ]
    }
   ],
   "source": [
    "rdr = tree.ZippedCSVReader(\"trees.zip\")\n",
    "r = tree.ZippedCSVReader(\"mini.zip\")\n",
    "banq = tree.Bank(None, r)\n",
    "dtree = tree.DTree()\n",
    "\n",
    "for row in banq.loan_iter():\n",
    "    dtree.readTree(rdr, \"tree2.txt\")\n",
    "    dtree.predict(row)\n",
    "print(\"\\n\",dtree.disapproved, dtree.approved)"
   ]
  },
  {
   "cell_type": "code",
   "execution_count": 15,
   "metadata": {},
   "outputs": [
    {
     "name": "stdout",
     "output_type": "stream",
     "text": [
      "bad.txt\n",
      "good.txt\n",
      "simple.txt\n",
      "tree1.txt\n",
      "tree2.txt\n",
      "tree3.txt\n",
      "tree4.txt\n",
      "tree5.txt\n",
      "tree6.txt\n",
      "tree7.txt\n"
     ]
    }
   ],
   "source": [
    "rd = tree.ZippedCSVReader(\"trees.zip\")\n",
    "appr = 0\n",
    "dappr = 0\n",
    "l = []\n",
    "for trees in rd.paths:\n",
    "    dtree = tree.DTree()\n",
    "    print(trees)\n",
    "    dtree.readTree(rd, trees)\n",
    "    l.append(dtree)"
   ]
  },
  {
   "cell_type": "code",
   "execution_count": 16,
   "metadata": {},
   "outputs": [
    {
     "data": {
      "text/plain": [
       "True"
      ]
     },
     "execution_count": 16,
     "metadata": {},
     "output_type": "execute_result"
    }
   ],
   "source": [
    "rf = tree.RandomForest(l)\n",
    "rf.predict(tree.Loan(216, 'Home purchase', 'White', 82, 'Loan originated'))"
   ]
  },
  {
   "cell_type": "code",
   "execution_count": 17,
   "metadata": {},
   "outputs": [
    {
     "data": {
      "text/plain": [
       "0.35969505895764314"
      ]
     },
     "execution_count": 17,
     "metadata": {},
     "output_type": "execute_result"
    }
   ],
   "source": [
    "reader = tree.ZippedCSVReader(\"loans.zip\")\n",
    "b = tree.Bank(None, reader)\n",
    "\n",
    "tree_reader = tree.ZippedCSVReader(\"trees.zip\")\n",
    "dtree = tree.DTree()\n",
    "dtree.readTree(tree_reader, \"bad.txt\")\n",
    "tree.bias_test(b, dtree, \"Black or African American\")"
   ]
  },
  {
   "cell_type": "code",
   "execution_count": null,
   "metadata": {},
   "outputs": [],
   "source": []
  }
 ],
 "metadata": {
  "kernelspec": {
   "display_name": "Python 3",
   "language": "python",
   "name": "python3"
  },
  "language_info": {
   "codemirror_mode": {
    "name": "ipython",
    "version": 3
   },
   "file_extension": ".py",
   "mimetype": "text/x-python",
   "name": "python",
   "nbconvert_exporter": "python",
   "pygments_lexer": "ipython3",
   "version": "3.8.5"
  }
 },
 "nbformat": 4,
 "nbformat_minor": 4
}
